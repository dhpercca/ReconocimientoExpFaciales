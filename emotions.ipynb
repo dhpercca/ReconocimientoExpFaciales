{
 "cells": [
  {
   "cell_type": "markdown",
   "metadata": {},
   "source": [
    "## Recopilación del Dataset "
   ]
  },
  {
   "cell_type": "code",
   "execution_count": 11,
   "metadata": {},
   "outputs": [
    {
     "name": "stdout",
     "output_type": "stream",
     "text": [
      "Creating..../data/Sad/ne0.jpg\n",
      "Creating..../data/Sad/ne1.jpg\n",
      "Creating..../data/Sad/ne2.jpg\n",
      "Creating..../data/Sad/ne3.jpg\n",
      "Creating..../data/Sad/ne4.jpg\n",
      "Creating..../data/Sad/ne5.jpg\n",
      "Creating..../data/Sad/ne6.jpg\n",
      "Creating..../data/Sad/ne7.jpg\n",
      "Creating..../data/Sad/ne8.jpg\n",
      "Creating..../data/Sad/ne9.jpg\n",
      "Creating..../data/Sad/ne10.jpg\n",
      "Creating..../data/Sad/ne11.jpg\n",
      "Creating..../data/Sad/ne12.jpg\n",
      "Creating..../data/Sad/ne13.jpg\n",
      "Creating..../data/Sad/ne14.jpg\n",
      "Creating..../data/Sad/ne15.jpg\n",
      "Creating..../data/Sad/ne16.jpg\n",
      "Creating..../data/Sad/ne17.jpg\n",
      "Creating..../data/Sad/ne18.jpg\n",
      "Creating..../data/Sad/ne19.jpg\n",
      "Creating..../data/Sad/ne20.jpg\n",
      "Creating..../data/Sad/ne21.jpg\n",
      "Creating..../data/Sad/ne22.jpg\n",
      "Creating..../data/Sad/ne23.jpg\n",
      "Creating..../data/Sad/ne24.jpg\n",
      "Creating..../data/Sad/ne25.jpg\n",
      "Creating..../data/Sad/ne26.jpg\n",
      "Creating..../data/Sad/ne27.jpg\n",
      "Creating..../data/Sad/ne28.jpg\n",
      "Creating..../data/Sad/ne29.jpg\n",
      "Creating..../data/Sad/ne30.jpg\n",
      "Creating..../data/Sad/ne31.jpg\n",
      "Creating..../data/Sad/ne32.jpg\n",
      "Creating..../data/Sad/ne33.jpg\n",
      "Creating..../data/Sad/ne34.jpg\n",
      "Creating..../data/Sad/ne35.jpg\n",
      "Creating..../data/Sad/ne36.jpg\n",
      "Creating..../data/Sad/ne37.jpg\n",
      "Creating..../data/Sad/ne38.jpg\n",
      "Creating..../data/Sad/ne39.jpg\n",
      "Creating..../data/Sad/ne40.jpg\n",
      "Creating..../data/Sad/ne41.jpg\n",
      "Creating..../data/Sad/ne42.jpg\n",
      "Creating..../data/Sad/ne43.jpg\n",
      "Creating..../data/Sad/ne44.jpg\n",
      "Creating..../data/Sad/ne45.jpg\n",
      "Creating..../data/Sad/ne46.jpg\n",
      "Creating..../data/Sad/ne47.jpg\n",
      "Creating..../data/Sad/ne48.jpg\n",
      "Creating..../data/Sad/ne49.jpg\n",
      "Creating..../data/Sad/ne50.jpg\n",
      "Creating..../data/Sad/ne51.jpg\n",
      "Creating..../data/Sad/ne52.jpg\n",
      "Creating..../data/Sad/ne53.jpg\n",
      "Creating..../data/Sad/ne54.jpg\n",
      "Creating..../data/Sad/ne55.jpg\n",
      "Creating..../data/Sad/ne56.jpg\n",
      "Creating..../data/Sad/ne57.jpg\n",
      "Creating..../data/Sad/ne58.jpg\n",
      "Creating..../data/Sad/ne59.jpg\n",
      "Creating..../data/Sad/ne60.jpg\n",
      "Creating..../data/Sad/ne61.jpg\n",
      "Creating..../data/Sad/ne62.jpg\n",
      "Creating..../data/Sad/ne63.jpg\n",
      "Creating..../data/Sad/ne64.jpg\n",
      "Creating..../data/Sad/ne65.jpg\n",
      "Creating..../data/Sad/ne66.jpg\n",
      "\n"
     ]
    }
   ],
   "source": [
    "import cv2\n",
    "\n",
    "cam = cv2.VideoCapture(0)\n",
    "currentframe = 0\n",
    "\n",
    "while (True):\n",
    "    ret, frame = cam.read()\n",
    "    name = './data/Sad/ne' + str(currentframe) + '.jpg'\n",
    "    print('Creating...' + name)\n",
    "    cv2.imwrite(name, frame)\n",
    "    currentframe += 1\n",
    "    if currentframe>380:\n",
    "        break\n",
    "    cv2.imshow('img', frame)\n",
    "    k = cv2.waitKey(30) & 0xff\n",
    "    if k == 27:\n",
    "        break\n",
    "\n",
    "cam.release()\n",
    "cv2.destroyAllWindows()\n",
    "print()"
   ]
  },
  {
   "cell_type": "markdown",
   "metadata": {},
   "source": [
    "## Preprocesamiento del Dataset "
   ]
  },
  {
   "cell_type": "code",
   "execution_count": 1,
   "metadata": {},
   "outputs": [
    {
     "name": "stdout",
     "output_type": "stream",
     "text": [
      "{'Angry': 0, 'Neutral': 1, 'Sad': 2, 'Smile': 3}\n",
      "['Angry', 'Neutral', 'Sad', 'Smile']\n",
      "[0, 1, 2, 3]\n"
     ]
    }
   ],
   "source": [
    "import cv2\n",
    "import os\n",
    "\n",
    "data_path='data'\n",
    "categories=os.listdir(data_path)\n",
    "labels=[i for i in range(len(categories))]\n",
    "\n",
    "label_dict=dict(zip(categories,labels)) #empty dictionary\n",
    "\n",
    "print(label_dict)\n",
    "print(categories)\n",
    "print(labels)"
   ]
  },
  {
   "cell_type": "code",
   "execution_count": 2,
   "metadata": {},
   "outputs": [],
   "source": [
    "img_size=100\n",
    "data=[]\n",
    "target=[]\n",
    "\n",
    "facedata = \"haarcascade_frontalface_alt.xml\"\n",
    "cascade = cv2.CascadeClassifier(facedata)\n",
    "\n",
    "\n",
    "for category in categories:\n",
    "    folder_path=os.path.join(data_path,category)\n",
    "    img_names=os.listdir(folder_path)\n",
    "        \n",
    "    for img_name in img_names:\n",
    "        img_path=os.path.join(folder_path,img_name)\n",
    "        img=cv2.imread(img_path)\n",
    "        faces = cascade.detectMultiScale(img)\n",
    "        try:\n",
    "            for f in faces:\n",
    "                x, y, w, h = [v for v in f]\n",
    "                sub_face = img[y:y + h, x:x + w]\n",
    "                gray=cv2.cvtColor(sub_face,cv2.COLOR_BGR2GRAY)           \n",
    "                #Coverting the image into gray scale\n",
    "                resized=cv2.resize(gray,(img_size,img_size))\n",
    "                data.append(resized)\n",
    "                target.append(label_dict[category])\n",
    "        except Exception as e:\n",
    "            print('Exception:',e)"
   ]
  },
  {
   "cell_type": "code",
   "execution_count": 3,
   "metadata": {},
   "outputs": [
    {
     "name": "stderr",
     "output_type": "stream",
     "text": [
      "Using TensorFlow backend.\n",
      "C:\\Users\\Diego\\anaconda3\\lib\\site-packages\\tensorflow\\python\\framework\\dtypes.py:516: FutureWarning: Passing (type, 1) or '1type' as a synonym of type is deprecated; in a future version of numpy, it will be understood as (type, (1,)) / '(1,)type'.\n",
      "  _np_qint8 = np.dtype([(\"qint8\", np.int8, 1)])\n",
      "C:\\Users\\Diego\\anaconda3\\lib\\site-packages\\tensorflow\\python\\framework\\dtypes.py:517: FutureWarning: Passing (type, 1) or '1type' as a synonym of type is deprecated; in a future version of numpy, it will be understood as (type, (1,)) / '(1,)type'.\n",
      "  _np_quint8 = np.dtype([(\"quint8\", np.uint8, 1)])\n",
      "C:\\Users\\Diego\\anaconda3\\lib\\site-packages\\tensorflow\\python\\framework\\dtypes.py:518: FutureWarning: Passing (type, 1) or '1type' as a synonym of type is deprecated; in a future version of numpy, it will be understood as (type, (1,)) / '(1,)type'.\n",
      "  _np_qint16 = np.dtype([(\"qint16\", np.int16, 1)])\n",
      "C:\\Users\\Diego\\anaconda3\\lib\\site-packages\\tensorflow\\python\\framework\\dtypes.py:519: FutureWarning: Passing (type, 1) or '1type' as a synonym of type is deprecated; in a future version of numpy, it will be understood as (type, (1,)) / '(1,)type'.\n",
      "  _np_quint16 = np.dtype([(\"quint16\", np.uint16, 1)])\n",
      "C:\\Users\\Diego\\anaconda3\\lib\\site-packages\\tensorflow\\python\\framework\\dtypes.py:520: FutureWarning: Passing (type, 1) or '1type' as a synonym of type is deprecated; in a future version of numpy, it will be understood as (type, (1,)) / '(1,)type'.\n",
      "  _np_qint32 = np.dtype([(\"qint32\", np.int32, 1)])\n",
      "C:\\Users\\Diego\\anaconda3\\lib\\site-packages\\tensorflow\\python\\framework\\dtypes.py:525: FutureWarning: Passing (type, 1) or '1type' as a synonym of type is deprecated; in a future version of numpy, it will be understood as (type, (1,)) / '(1,)type'.\n",
      "  np_resource = np.dtype([(\"resource\", np.ubyte, 1)])\n",
      "C:\\Users\\Diego\\anaconda3\\lib\\site-packages\\tensorboard\\compat\\tensorflow_stub\\dtypes.py:541: FutureWarning: Passing (type, 1) or '1type' as a synonym of type is deprecated; in a future version of numpy, it will be understood as (type, (1,)) / '(1,)type'.\n",
      "  _np_qint8 = np.dtype([(\"qint8\", np.int8, 1)])\n",
      "C:\\Users\\Diego\\anaconda3\\lib\\site-packages\\tensorboard\\compat\\tensorflow_stub\\dtypes.py:542: FutureWarning: Passing (type, 1) or '1type' as a synonym of type is deprecated; in a future version of numpy, it will be understood as (type, (1,)) / '(1,)type'.\n",
      "  _np_quint8 = np.dtype([(\"quint8\", np.uint8, 1)])\n",
      "C:\\Users\\Diego\\anaconda3\\lib\\site-packages\\tensorboard\\compat\\tensorflow_stub\\dtypes.py:543: FutureWarning: Passing (type, 1) or '1type' as a synonym of type is deprecated; in a future version of numpy, it will be understood as (type, (1,)) / '(1,)type'.\n",
      "  _np_qint16 = np.dtype([(\"qint16\", np.int16, 1)])\n",
      "C:\\Users\\Diego\\anaconda3\\lib\\site-packages\\tensorboard\\compat\\tensorflow_stub\\dtypes.py:544: FutureWarning: Passing (type, 1) or '1type' as a synonym of type is deprecated; in a future version of numpy, it will be understood as (type, (1,)) / '(1,)type'.\n",
      "  _np_quint16 = np.dtype([(\"quint16\", np.uint16, 1)])\n",
      "C:\\Users\\Diego\\anaconda3\\lib\\site-packages\\tensorboard\\compat\\tensorflow_stub\\dtypes.py:545: FutureWarning: Passing (type, 1) or '1type' as a synonym of type is deprecated; in a future version of numpy, it will be understood as (type, (1,)) / '(1,)type'.\n",
      "  _np_qint32 = np.dtype([(\"qint32\", np.int32, 1)])\n",
      "C:\\Users\\Diego\\anaconda3\\lib\\site-packages\\tensorboard\\compat\\tensorflow_stub\\dtypes.py:550: FutureWarning: Passing (type, 1) or '1type' as a synonym of type is deprecated; in a future version of numpy, it will be understood as (type, (1,)) / '(1,)type'.\n",
      "  np_resource = np.dtype([(\"resource\", np.ubyte, 1)])\n"
     ]
    }
   ],
   "source": [
    "import numpy as np\n",
    "\n",
    "data=np.array(data)/255.0\n",
    "data=np.reshape(data,(data.shape[0],img_size,img_size,1))\n",
    "target=np.array(target)\n",
    "\n",
    "from keras.utils import np_utils\n",
    "\n",
    "new_target=np_utils.to_categorical(target)"
   ]
  },
  {
   "cell_type": "code",
   "execution_count": 5,
   "metadata": {},
   "outputs": [],
   "source": [
    "np.save('./training/data',data)\n",
    "np.save('./training/target',new_target)"
   ]
  },
  {
   "cell_type": "markdown",
   "metadata": {},
   "source": [
    "## Entrenamiento de la Red Neuronal Convolucional"
   ]
  },
  {
   "cell_type": "code",
   "execution_count": 6,
   "metadata": {},
   "outputs": [],
   "source": [
    "import numpy as np\n",
    "\n",
    "data=np.load('./training/data.npy')\n",
    "target=np.load('./training/target.npy')"
   ]
  },
  {
   "cell_type": "code",
   "execution_count": 7,
   "metadata": {},
   "outputs": [
    {
     "name": "stdout",
     "output_type": "stream",
     "text": [
      "WARNING:tensorflow:From C:\\Users\\Diego\\anaconda3\\lib\\site-packages\\keras\\backend\\tensorflow_backend.py:4070: The name tf.nn.max_pool is deprecated. Please use tf.nn.max_pool2d instead.\n",
      "\n"
     ]
    }
   ],
   "source": [
    "from keras.models import Sequential\n",
    "from keras.layers import Dense,Activation,Flatten,Dropout\n",
    "from keras.layers import Conv2D,MaxPooling2D\n",
    "from keras.callbacks import ModelCheckpoint\n",
    "\n",
    "model=Sequential()\n",
    "\n",
    "model.add(Conv2D(200,(3,3),input_shape=data.shape[1:]))\n",
    "model.add(Activation('relu'))\n",
    "model.add(MaxPooling2D(pool_size=(2,2)))\n",
    "#The first CNN layer followed by Relu and MaxPooling layers\n",
    "\n",
    "model.add(Conv2D(100,(3,3)))\n",
    "model.add(Activation('relu'))\n",
    "model.add(MaxPooling2D(pool_size=(2,2)))\n",
    "#The second convolution layer followed by Relu and MaxPooling layers\n",
    "\n",
    "model.add(Flatten())\n",
    "model.add(Dropout(0.5))\n",
    "#Flatten layer to stack the output convolutions from second convolution layer\n",
    "model.add(Dense(50,activation='relu'))\n",
    "#Dense layer of 64 neurons\n",
    "model.add(Dense(4,activation='softmax'))\n",
    "#The Final layer with two outputs for two categories\n",
    "\n",
    "model.compile(loss='categorical_crossentropy',optimizer='adam',metrics=['accuracy'])"
   ]
  },
  {
   "cell_type": "code",
   "execution_count": 8,
   "metadata": {},
   "outputs": [],
   "source": [
    "from sklearn.model_selection import train_test_split\n",
    "\n",
    "train_data,test_data,train_target,test_target=train_test_split(data,target,test_size=0.1)"
   ]
  },
  {
   "cell_type": "code",
   "execution_count": 16,
   "metadata": {},
   "outputs": [
    {
     "name": "stdout",
     "output_type": "stream",
     "text": [
      "Train on 120 samples, validate on 31 samples\n",
      "Epoch 1/12\n",
      "120/120 [==============================] - 6s 46ms/step - loss: 1.1792 - accuracy: 0.4667 - val_loss: 1.4231 - val_accuracy: 0.2903\n",
      "Epoch 2/12\n",
      "120/120 [==============================] - 6s 47ms/step - loss: 1.1296 - accuracy: 0.5083 - val_loss: 1.4737 - val_accuracy: 0.2581\n",
      "Epoch 3/12\n",
      "120/120 [==============================] - 5s 45ms/step - loss: 1.0983 - accuracy: 0.5167 - val_loss: 1.4301 - val_accuracy: 0.3871\n",
      "Epoch 4/12\n",
      "120/120 [==============================] - 6s 46ms/step - loss: 1.0325 - accuracy: 0.5917 - val_loss: 1.4788 - val_accuracy: 0.3548\n",
      "Epoch 5/12\n",
      "120/120 [==============================] - 5s 45ms/step - loss: 0.9635 - accuracy: 0.6250 - val_loss: 1.6260 - val_accuracy: 0.2903\n",
      "Epoch 6/12\n",
      "120/120 [==============================] - 5s 45ms/step - loss: 0.8805 - accuracy: 0.7000 - val_loss: 1.5439 - val_accuracy: 0.3871\n",
      "Epoch 7/12\n",
      "120/120 [==============================] - 6s 47ms/step - loss: 0.8463 - accuracy: 0.7000 - val_loss: 1.6077 - val_accuracy: 0.3226\n",
      "Epoch 8/12\n",
      "120/120 [==============================] - 5s 45ms/step - loss: 0.7870 - accuracy: 0.7333 - val_loss: 1.7635 - val_accuracy: 0.3871\n",
      "Epoch 9/12\n",
      "120/120 [==============================] - 5s 45ms/step - loss: 0.6858 - accuracy: 0.7500 - val_loss: 1.9150 - val_accuracy: 0.3871\n",
      "Epoch 10/12\n",
      "120/120 [==============================] - 6s 49ms/step - loss: 0.5874 - accuracy: 0.7833 - val_loss: 2.0554 - val_accuracy: 0.3548\n",
      "Epoch 11/12\n",
      "120/120 [==============================] - 6s 47ms/step - loss: 0.5362 - accuracy: 0.8333 - val_loss: 2.0501 - val_accuracy: 0.3871\n",
      "Epoch 12/12\n",
      "120/120 [==============================] - 6s 46ms/step - loss: 0.4560 - accuracy: 0.8417 - val_loss: 2.6292 - val_accuracy: 0.3548\n"
     ]
    }
   ],
   "source": [
    "checkpoint = ModelCheckpoint('./training/model-{epoch:03d}.model',monitor='val_loss',verbose=0,save_best_only=True,mode='auto')\n",
    "history=model.fit(train_data,train_target,epochs=12,callbacks=[checkpoint],validation_split=0.2)"
   ]
  },
  {
   "cell_type": "code",
   "execution_count": 17,
   "metadata": {},
   "outputs": [
    {
     "data": {
      "image/png": "[encoded data removed]",
      "text/plain": [
       "<Figure size 432x288 with 1 Axes>"
      ]
     },
     "metadata": {
      "needs_background": "light"
     },
     "output_type": "display_data"
    }
   ],
   "source": [
    "from matplotlib import pyplot as plt\n",
    "\n",
    "plt.plot(history.history['loss'],'r',label='training loss')\n",
    "plt.plot(history.history['val_loss'],label='validation loss')\n",
    "plt.xlabel('# epochs')\n",
    "plt.ylabel('loss')\n",
    "plt.legend()\n",
    "plt.show()"
   ]
  },
  {
   "cell_type": "code",
   "execution_count": 18,
   "metadata": {},
   "outputs": [
    {
     "data": {
      "image/png": "[encoded data removed]",
      "text/plain": [
       "<Figure size 432x288 with 1 Axes>"
      ]
     },
     "metadata": {
      "needs_background": "light"
     },
     "output_type": "display_data"
    }
   ],
   "source": [
    "plt.plot(history.history['accuracy'],'r',label='training accuracy')\n",
    "plt.plot(history.history['val_accuracy'],label='validation accuracy')\n",
    "plt.xlabel('# epochs')\n",
    "plt.ylabel('loss')\n",
    "plt.legend()\n",
    "plt.show()"
   ]
  },
  {
   "cell_type": "code",
   "execution_count": 19,
   "metadata": {},
   "outputs": [
    {
     "name": "stdout",
     "output_type": "stream",
     "text": [
      "17/17 [==============================] - 0s 13ms/step\n",
      "[1.9208288192749023, 0.29411765933036804]\n"
     ]
    }
   ],
   "source": [
    "print(model.evaluate(test_data,test_target))"
   ]
  },
  {
   "cell_type": "markdown",
   "metadata": {},
   "source": [
    "## Cargar el modelo"
   ]
  },
  {
   "cell_type": "code",
   "execution_count": 20,
   "metadata": {},
   "outputs": [],
   "source": [
    "from keras.models import load_model\n",
    "import cv2\n",
    "import numpy as np"
   ]
  },
  {
   "cell_type": "code",
   "execution_count": 22,
   "metadata": {},
   "outputs": [],
   "source": [
    "model = load_model('./training/model-002.model')\n",
    "\n",
    "face_clsfr=cv2.CascadeClassifier('haarcascade_frontalface_alt.xml')\n",
    "\n",
    "cap=cv2.VideoCapture(\"vb1.mp4\")\n",
    "# size = (int(cap.get(cv2.CAP_PROP_FRAME_WIDTH)), int(cap.get(cv2.CAP_PROP_FRAME_HEIGHT)))\n",
    "# fourcc = cv2.VideoWriter_fourcc(*'mp4v')  # 'x264' doesn't work\n",
    "# out = cv2.VideoWriter('test1.mp4',fourcc, 29.0, size)  # 'False' for 1-ch instead of 3-ch for color\n",
    "\n",
    "\n",
    "labels_dict={0:'Angry',1:'Neutral',2:'Sad',3:\"Smile\"}\n",
    "color_dict={0:(0,0,255),1:(0,255,0),2:(255,0,0),3:(255,0,255)}"
   ]
  },
  {
   "cell_type": "code",
   "execution_count": 23,
   "metadata": {},
   "outputs": [],
   "source": [
    "while(True):\n",
    "\n",
    "    ret,img=cap.read()\n",
    "    gray=cv2.cvtColor(img,cv2.COLOR_BGR2GRAY)\n",
    "    faces=face_clsfr.detectMultiScale(gray,1.3,3)  \n",
    "\n",
    "    for (x,y,w,h) in faces:\n",
    "    \n",
    "        face_img=gray[y:y+w,x:x+w]\n",
    "        resized=cv2.resize(face_img,(100,100))\n",
    "        normalized=resized/255.0\n",
    "        reshaped=np.reshape(normalized,(1,100,100,1))\n",
    "        result=model.predict(reshaped)\n",
    "\n",
    "        label=np.argmax(result,axis=1)[0]\n",
    "      \n",
    "        cv2.rectangle(img,(x,y),(x+w,y+h),color_dict[label],2)\n",
    "        cv2.rectangle(img,(x,y-40),(x+w,y),color_dict[label],-1)\n",
    "        cv2.putText(img, labels_dict[label], (x, y-10),cv2.FONT_HERSHEY_SIMPLEX,0.8,(255,255,255),2)\n",
    "        \n",
    "        \n",
    "    cv2.imshow('LIVE',img)\n",
    "#     out.write(img)\n",
    "    key=cv2.waitKey(1)\n",
    "    \n",
    "    if(key==27):\n",
    "        break\n",
    "    if ret==False:\n",
    "        break\n",
    "        \n",
    "cv2.destroyAllWindows()\n",
    "cap.release()"
   ]
  },
  {
   "cell_type": "code",
   "execution_count": null,
   "metadata": {},
   "outputs": [],
   "source": []
  }
 ],
 "metadata": {
  "kernelspec": {
   "display_name": "Python 3",
   "language": "python",
   "name": "python3"
  },
  "language_info": {
   "codemirror_mode": {
    "name": "ipython",
    "version": 3
   },
   "file_extension": ".py",
   "mimetype": "text/x-python",
   "name": "python",
   "nbconvert_exporter": "python",
   "pygments_lexer": "ipython3",
   "version": "3.7.6"
  }
 },
 "nbformat": 4,
 "nbformat_minor": 4
}
